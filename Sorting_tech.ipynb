{
 "cells": [
  {
   "cell_type": "markdown",
   "id": "6845ef86",
   "metadata": {},
   "source": [
    "<b> Selection sort"
   ]
  },
  {
   "cell_type": "code",
   "execution_count": 21,
   "id": "ede6f7d6",
   "metadata": {},
   "outputs": [
    {
     "name": "stdout",
     "output_type": "stream",
     "text": [
      "[0, 2, 5, 6, 7, 8, 9, 10, 16, 23]\n"
     ]
    }
   ],
   "source": [
    "list1 = [8,5,6,9,7,10,2,16,0,23]\n",
    "for i in range(len(list1)):\n",
    "    min_value = min(list1[i:])\n",
    "    min_index = list1.index(min_value)\n",
    "    list1[i],list1[min_index]=list1[min_index],list1[i]\n",
    "print(list1)"
   ]
  },
  {
   "cell_type": "code",
   "execution_count": 30,
   "id": "e082ef54",
   "metadata": {},
   "outputs": [
    {
     "name": "stdout",
     "output_type": "stream",
     "text": [
      "[0, 2, 2, 5, 6, 7, 8, 9, 10, 16, 23]\n"
     ]
    }
   ],
   "source": [
    "list1 = [8,5,6,9,2,7,10,2,16,0,23]\n",
    "for i in range(len(list1)):\n",
    "    min_value = min(list1[i:])\n",
    "    min_index = list1.index(min_value,i)\n",
    "    if list1[i]>list1[min_index]:\n",
    "        list1[i],list1[min_index]=list1[min_index],list1[i]\n",
    "print(list1)"
   ]
  },
  {
   "cell_type": "markdown",
   "id": "c71818f7",
   "metadata": {},
   "source": [
    "<b> Bubble Sort"
   ]
  },
  {
   "cell_type": "code",
   "execution_count": 37,
   "id": "1f47c80e",
   "metadata": {},
   "outputs": [
    {
     "name": "stdout",
     "output_type": "stream",
     "text": [
      "[0, 2, 2, 5, 6, 7, 8, 9, 10, 16, 23]\n"
     ]
    }
   ],
   "source": [
    "list1 = [8,5,6,9,2,7,10,2,16,0,23]\n",
    "for j in range(len(list1)-1):\n",
    "    for i in range(len(list1)-1):\n",
    "        if list1[i]>list1[i+1]:\n",
    "            list1[i],list1[i+1]=list1[i+1],list1[i]\n",
    "print(list1)"
   ]
  },
  {
   "cell_type": "code",
   "execution_count": null,
   "id": "f6f12b70",
   "metadata": {},
   "outputs": [],
   "source": []
  }
 ],
 "metadata": {
  "kernelspec": {
   "display_name": "Python 3 (ipykernel)",
   "language": "python",
   "name": "python3"
  },
  "language_info": {
   "codemirror_mode": {
    "name": "ipython",
    "version": 3
   },
   "file_extension": ".py",
   "mimetype": "text/x-python",
   "name": "python",
   "nbconvert_exporter": "python",
   "pygments_lexer": "ipython3",
   "version": "3.9.13"
  }
 },
 "nbformat": 4,
 "nbformat_minor": 5
}
