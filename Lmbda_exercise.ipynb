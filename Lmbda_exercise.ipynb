{
 "cells": [
  {
   "cell_type": "code",
   "execution_count": null,
   "id": "53d21327",
   "metadata": {},
   "outputs": [],
   "source": [
    "\n",
    "\n",
    "\n",
    "\n",
    "8.\tWrite a Python program to create a list containing the power of said number in bases raised to the corresponding number in the index using Python map.\n"
   ]
  },
  {
   "cell_type": "markdown",
   "id": "630353ab",
   "metadata": {},
   "source": [
    "<b>1.\tWrite a Python program to create a lambda function that adds 15 to a given number \\\n",
    "    passed in as an argument, also create a lambda function that multiplies argument x with argument y and prints the result."
   ]
  },
  {
   "cell_type": "code",
   "execution_count": null,
   "id": "5ee30316",
   "metadata": {},
   "outputs": [],
   "source": [
    "a = lambda x:x+15\n",
    "x =int(input('Enter a number'))\n",
    "print(a(x))\n",
    "print('*********************')\n",
    "a = lambda x,y : x*y\n",
    "print(a(5,2))"
   ]
  },
  {
   "cell_type": "markdown",
   "id": "6d9c3071",
   "metadata": {},
   "source": [
    "<b>2.\tWrite a Python program to create lambda function that takes one argument, and \\\n",
    "that argument will be multiplied with an unknown given number."
   ]
  },
  {
   "cell_type": "code",
   "execution_count": null,
   "id": "8f0a2824",
   "metadata": {},
   "outputs": [],
   "source": [
    "def mult(n):\n",
    "    return lambda x:x*n\n",
    "x =int(input('Enter x:'))\n",
    "n= int(input('Enter n:'))\n",
    "a = mult(n)\n",
    "print(a(x))\n"
   ]
  },
  {
   "cell_type": "markdown",
   "id": "1db740d2",
   "metadata": {},
   "source": [
    "<b>3.\tWrite a Python program to sort a list of tuples using Lambda."
   ]
  },
  {
   "cell_type": "code",
   "execution_count": null,
   "id": "5ae97cc8",
   "metadata": {},
   "outputs": [],
   "source": [
    "\n",
    "a=[('English', 88), ('Science', 90), ('Maths', 97), ('Social sciences', 82)]\n",
    "a.sort(key= lambda x:x[1])\n",
    "print(a)\n",
    "\n",
    "\n"
   ]
  },
  {
   "cell_type": "markdown",
   "id": "b3cef93c",
   "metadata": {},
   "source": [
    "<b>4.\tWrite a Python program to filter a list of integers using Lambda.\n",
    "Original list of integers:\n",
    "[1, 2, 3, 4, 5, 6, 7, 8, 9, 10]\n"
   ]
  },
  {
   "cell_type": "code",
   "execution_count": 22,
   "id": "e7a697b5",
   "metadata": {},
   "outputs": [
    {
     "name": "stdout",
     "output_type": "stream",
     "text": [
      "[2, 6, 8]\n"
     ]
    }
   ],
   "source": [
    "def remove(n):\n",
    "    if n%2==0:\n",
    "        return True\n",
    "print(list(filter(remove,[1,2,6,8,9])))\n"
   ]
  },
  {
   "cell_type": "code",
   "execution_count": 32,
   "id": "f305f6a9",
   "metadata": {},
   "outputs": [
    {
     "name": "stdout",
     "output_type": "stream",
     "text": [
      "Even numbers from list\n",
      "[8, 6, 52, 6, 2]\n",
      "odd numbers from list\n",
      "odd [5, 9, 7, 91, 33]\n"
     ]
    }
   ],
   "source": [
    "a =[8,5,6,9,7,52,6,91,2,33]\n",
    "b = lambda x:x%2==0\n",
    "c =lambda x:x%2!=0\n",
    "print('Even numbers from list')\n",
    "print(list(filter(b,a)))\n",
    "print('odd numbers from list')\n",
    "print('odd',list(filter(c,a)))\n"
   ]
  },
  {
   "cell_type": "markdown",
   "id": "6110aba7",
   "metadata": {},
   "source": [
    "<b>5.\tWrite a Python program to find if a given string starts with a given character using Lambda.\n",
    "Sample Output:\n",
    "True\n",
    "False\n"
   ]
  },
  {
   "cell_type": "code",
   "execution_count": 66,
   "id": "f33068d1",
   "metadata": {},
   "outputs": [
    {
     "name": "stdout",
     "output_type": "stream",
     "text": [
      "Enter string:unsdfns\n",
      "Enter charu\n",
      "True\n"
     ]
    }
   ],
   "source": [
    "b  =input('Enter string:')\n",
    "b.upper()\n",
    "key = lambda x:True if x[0]==c else False\n",
    "c=input('Enter char')\n",
    "c.upper()\n",
    "print(key(b))\n"
   ]
  },
  {
   "cell_type": "markdown",
   "id": "42149af0",
   "metadata": {},
   "source": [
    "<b>6.\tWrite a Python program to triple all numbers in a given list of integers. Use Python map."
   ]
  },
  {
   "cell_type": "code",
   "execution_count": 62,
   "id": "fce49a57",
   "metadata": {},
   "outputs": [
    {
     "name": "stdout",
     "output_type": "stream",
     "text": [
      "[15, 18, 27, 21]\n"
     ]
    }
   ],
   "source": [
    "def triple(n):\n",
    "    return n*3\n",
    "print(list(map(triple,[5,6,9,7])))"
   ]
  },
  {
   "cell_type": "markdown",
   "id": "9fb94056",
   "metadata": {},
   "source": [
    "<b>7.\tWrite a Python program to add three given lists using Python map and lambda."
   ]
  },
  {
   "cell_type": "code",
   "execution_count": 1,
   "id": "015b02c9",
   "metadata": {},
   "outputs": [
    {
     "name": "stdout",
     "output_type": "stream",
     "text": [
      "[4, 9]\n"
     ]
    }
   ],
   "source": [
    "print(list(map(lambda x,y,z:x+y+z,[1,2],[1,3],[2,4])))"
   ]
  },
  {
   "cell_type": "markdown",
   "id": "5c4049b7",
   "metadata": {},
   "source": [
    "<b>6.\tWrite a Python program to find palindromes in a given list of strings using Lambda.\n",
    "Orginal list of strings:\n",
    "['php', 'w3r', 'Python', 'abcd', 'Java', 'aaa']\n",
    "List of palindromes:\n",
    "['php', 'aaa']\n"
   ]
  },
  {
   "cell_type": "code",
   "execution_count": 3,
   "id": "b85dbda8",
   "metadata": {},
   "outputs": [
    {
     "name": "stdout",
     "output_type": "stream",
     "text": [
      "['php', 'aaa']\n"
     ]
    }
   ],
   "source": [
    "print(list(filter(lambda x:x[0:]==x[::-1],['php', 'w3r', 'Python', 'abcd', 'Java', 'aaa'])))"
   ]
  },
  {
   "cell_type": "markdown",
   "id": "df5769e0",
   "metadata": {},
   "source": [
    "<b>7.\tWrite a Python program to find all anagrams of a string in a given list of strings using Lambda.\n",
    "Orginal list of strings:\n",
    "['bcda', 'abce', 'cbda', 'cbea', 'adcb']\n",
    "Anagrams of 'abcd' in the above string:\n",
    "['bcda', 'cbda', 'adcb']\n"
   ]
  },
  {
   "cell_type": "code",
   "execution_count": 32,
   "id": "85aa2881",
   "metadata": {},
   "outputs": [
    {
     "name": "stdout",
     "output_type": "stream",
     "text": [
      "[]\n"
     ]
    }
   ],
   "source": [
    "print(list(filter(lambda x:x[0:] in x[,['bcda', 'abce', 'cbda', 'cbea', 'adcb'])))"
   ]
  },
  {
   "cell_type": "code",
   "execution_count": null,
   "id": "b0531038",
   "metadata": {},
   "outputs": [],
   "source": []
  }
 ],
 "metadata": {
  "kernelspec": {
   "display_name": "Python 3 (ipykernel)",
   "language": "python",
   "name": "python3"
  },
  "language_info": {
   "codemirror_mode": {
    "name": "ipython",
    "version": 3
   },
   "file_extension": ".py",
   "mimetype": "text/x-python",
   "name": "python",
   "nbconvert_exporter": "python",
   "pygments_lexer": "ipython3",
   "version": "3.9.13"
  }
 },
 "nbformat": 4,
 "nbformat_minor": 5
}
