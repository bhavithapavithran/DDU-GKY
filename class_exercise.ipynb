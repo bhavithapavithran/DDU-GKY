{
 "cells": [
  {
   "cell_type": "markdown",
   "id": "ebf405ea",
   "metadata": {},
   "source": [
    "<b>1. Write a Python class Employee with attributes like emp_id, emp_name, emp_salary, and\n",
    "emp_department and methods like calculate_emp_salary, emp_assign_department, and\n",
    "print_employee_details.\n",
    "Sample Employee Data:\n",
    "\"ADAMS\", \"E7876\", 50000, \"ACCOUNTING\"\n",
    "\"JONES\", \"E7499\", 45000, \"RESEARCH\"\n",
    "\"MARTIN\", \"E7900\", 50000, \"SALES\"\n",
    "\"SMITH\", \"E7698\", 55000, \"OPERATIONS\"\n",
    "     Use 'assign_department' method to change the department of an employee.\n",
    " Use 'print_employee_details' method to print the details of an employee.\n",
    " Use 'calculate_emp_salary' method takes two arguments: salary and hours_worked,\n",
    "which is the number of hours worked by the employee. If the number of hours worked\n",
    "is more than 50, the method computes overtime and adds it to the salary. Overtime is\n",
    "calculated as following formula:\n",
    "overtime = hours_worked - 50\n",
    "Overtime amount = (overtime * (salary / 50))"
   ]
  },
  {
   "cell_type": "code",
   "execution_count": 28,
   "id": "7d706e69",
   "metadata": {},
   "outputs": [
    {
     "name": "stdout",
     "output_type": "stream",
     "text": [
      "emp_id:E7876,emp_name:ADAMS,emp_department:ACCOUNTING\n",
      "emp_id:E7499,emp_name:JONES,emp_department:RESEARCH\n",
      "emp_id:E7900,emp_name:MARTIN,emp_department:SALES\n",
      "emp_id:E7698,emp_name:SMITH,emp_department:OPERATIONS\n",
      "Enter working hours:55\n",
      "ADAMS your total bonus is 55000.0\n",
      "enter dept:DAT ASCIUENCE\n",
      "emp_id:E7876,emp_name:ADAMS,your new dept is DAT ASCIUENCE\n"
     ]
    }
   ],
   "source": [
    "class employee:\n",
    "    def __init__(self,emp_name,emp_id,emp_salary,emp_department):\n",
    "        self.emp_name = emp_name\n",
    "        self.emp_id = emp_id \n",
    "        self.emp_salary = emp_salary\n",
    "        self.emp_department =emp_department\n",
    "        \n",
    "    def findsalary(self,hours_worked):\n",
    "        if hours_worked>50:\n",
    "            overtime = hours_worked - 50\n",
    "            overtime_amount = (overtime *(self.emp_salary / 50))\n",
    "            self.emp_salary= self.emp_salary + overtime_amount\n",
    "            print('{} your total bonus is {}'.format(self.emp_name,self.emp_salary))\n",
    "        else:\n",
    "            print('Sorry..No bonus')\n",
    "    def display(self):\n",
    "        print('emp_id:{},emp_name:{},emp_department:{}'.format(self.emp_id,self.emp_name,self.emp_department))\n",
    "        \n",
    "    \n",
    "    def assign_department(self,new_dep):\n",
    "        self.emp_department=new_dep\n",
    "        print('emp_id:{},emp_name:{},your new dept is {}'.format(self.emp_id,self.emp_name,self.emp_department))\n",
    "        \n",
    "emp1 = employee('ADAMS', 'E7876', 50000, 'ACCOUNTING')\n",
    "emp2 = employee('JONES', \"E7499\", 45000, 'RESEARCH')\n",
    "emp3 = employee('MARTIN', \"E7900\", 50000, 'SALES')\n",
    "emp4 = employee('SMITH', \"E7698\", 55000, 'OPERATIONS')\n",
    "\n",
    "emp1.display()\n",
    "emp2.display()\n",
    "emp3.display()\n",
    "emp4.display()\n",
    "\n",
    "\n",
    "hours_worked =int(input('Enter working hours:'))\n",
    "emp1.findsalary(hours_worked)\n",
    "new_dep = input('enter dept:')\n",
    "emp1.assign_department(new_dep)\n",
    "\n"
   ]
  },
  {
   "cell_type": "markdown",
   "id": "817217b6",
   "metadata": {},
   "source": [
    "<B>2. Write a Python class Restaurant with attributes like menu_items, book_table, and\n",
    "customer_orders, and methods like add_item_to_menu, book_tables, and customer_order.\n",
    "Perform the following tasks now:\n",
    " Now add items to the menu.\n",
    " Make table reservations.\n",
    " Take customer orders.\n",
    " Print the menu.\n",
    " Print table reservations.\n",
    " Print customer orders."
   ]
  },
  {
   "cell_type": "code",
   "execution_count": 109,
   "id": "0d9c6fba",
   "metadata": {},
   "outputs": [
    {
     "name": "stdout",
     "output_type": "stream",
     "text": [
      "todays menu is: {'Coffee': 20, 'Tea': 10, 'Fries': 80}\n",
      " Your order is: [{'item': 'Coffee', 'table num': 2}, {'item': 'Fries', 'table num': 2}]\n"
     ]
    }
   ],
   "source": [
    "class restaurant:\n",
    "    def __init__(self):\n",
    "        self.menu_items = {}\n",
    "        self.book_table =[]\n",
    "        self.customer_orders = []\n",
    "    def add_menu(self,item,price):\n",
    "        self.menu_items[item] = price\n",
    "    def display_menu(self):\n",
    "        print(f\"todays menu is: {self.menu_items}\")\n",
    "    def table_booking(self,table_num):\n",
    "        self.book_table.append(table_num)\n",
    "    def customer_order(self, table_number, order):\n",
    "        order_details = {'item': table_number, 'table num': order}\n",
    "        self.customer_orders.append(order_details)\n",
    "    def display_customer_order(self):\n",
    "        print(f\" Your order is: {self.customer_orders}\")\n",
    "\n",
    "r1 = restaurant()\n",
    "r1.add_menu('Coffee',20)\n",
    "r1.add_menu('Tea',10)\n",
    "r1.add_menu('Fries',80)\n",
    "r1.table_booking(3)\n",
    "r1.display_menu()\n",
    "r1.customer_order('Coffee',2)\n",
    "r1.customer_order('Fries',2)\n",
    "r1.display_customer_order()"
   ]
  },
  {
   "cell_type": "markdown",
   "id": "eddfd4c3",
   "metadata": {},
   "source": [
    "<B>3. Write a Python class BankAccount with attributes like account_number, balance,\n",
    "date_of_opening and customer_name, and methods like deposit, withdraw, and\n",
    "check_balance."
   ]
  },
  {
   "cell_type": "code",
   "execution_count": 30,
   "id": "4093a5f4",
   "metadata": {},
   "outputs": [],
   "source": [
    "class bankaccount:\n",
    "    def __init__(self,account_number, balance, date_of_opening):\n",
    "        self.account_number = account_number\n",
    "        self.balance = balance\n",
    "        self.date_of_opening = date_of_opening\n",
    "    def "
   ]
  },
  {
   "cell_type": "code",
   "execution_count": 3,
   "id": "34600fd2",
   "metadata": {},
   "outputs": [
    {
     "name": "stdout",
     "output_type": "stream",
     "text": [
      "Menu:\n",
      "Burger: $10\n",
      "Pizza: $15\n",
      "Pasta: $12\n",
      "Table Reservations:\n",
      "Table numbers: 1, 3\n",
      "Customer Orders:\n",
      "Table 1: Burger, Fries\n",
      "Table 3: Pizza, Coke, Salad\n"
     ]
    }
   ],
   "source": [
    "class Restaurant:\n",
    "    def __init__(self):\n",
    "        self.menu_items = {}  # Dictionary to store menu items with their prices\n",
    "        self.booked_tables = []  # List to store booked tables\n",
    "        self.customer_orders = []  # List to store customer orders\n",
    "\n",
    "    def add_item_to_menu(self, item, price):\n",
    "        self.menu_items[item] = price\n",
    "\n",
    "    def book_table(self, table_number):\n",
    "        self.booked_tables.append(table_number)\n",
    "\n",
    "    def customer_order(self, table_number, items):\n",
    "        order = {\n",
    "            \"table_number\": table_number,\n",
    "            \"items\": items\n",
    "        }\n",
    "        self.customer_orders.append(order)\n",
    "\n",
    "    def print_menu(self):\n",
    "        print(\"Menu:\")\n",
    "        for item, price in self.menu_items.items():\n",
    "            print(f\"{item}: ${price}\")\n",
    "\n",
    "    def print_table_reservations(self):\n",
    "        print(\"Table Reservations:\")\n",
    "        if not self.booked_tables:\n",
    "            print(\"No tables have been reserved.\")\n",
    "        else:\n",
    "            print(\"Table numbers:\", \", \".join(str(table) for table in self.booked_tables))\n",
    "\n",
    "    def print_customer_orders(self):\n",
    "        print(\"Customer Orders:\")\n",
    "        if not self.customer_orders:\n",
    "            print(\"No customer orders have been placed.\")\n",
    "        else:\n",
    "            for order in self.customer_orders:\n",
    "                print(f\"Table {order['table_number']}: {', '.join(order['items'])}\")\n",
    "\n",
    "\n",
    "# Example usage:\n",
    "if __name__ == \"__main__\":\n",
    "    restaurant = Restaurant()\n",
    "\n",
    "    # Add items to the menu\n",
    "    restaurant.add_item_to_menu(\"Burger\", 10)\n",
    "    restaurant.add_item_to_menu(\"Pizza\", 15)\n",
    "    restaurant.add_item_to_menu(\"Pasta\", 12)\n",
    "\n",
    "    # Make table reservations\n",
    "    restaurant.book_table(1)\n",
    "    restaurant.book_table(3)\n",
    "\n",
    "    # Take customer orders\n",
    "    restaurant.customer_order(1, [\"Burger\", \"Fries\"])\n",
    "    restaurant.customer_order(3, [\"Pizza\", \"Coke\", \"Salad\"])\n",
    "\n",
    "    # Print menu\n",
    "    restaurant.print_menu()\n",
    "\n",
    "    # Print table reservations\n",
    "    restaurant.print_table_reservations()\n",
    "\n",
    "    # Print customer orders\n",
    "    restaurant.print_customer_orders()\n"
   ]
  },
  {
   "cell_type": "code",
   "execution_count": null,
   "id": "32a6525f",
   "metadata": {},
   "outputs": [],
   "source": []
  }
 ],
 "metadata": {
  "kernelspec": {
   "display_name": "Python 3 (ipykernel)",
   "language": "python",
   "name": "python3"
  },
  "language_info": {
   "codemirror_mode": {
    "name": "ipython",
    "version": 3
   },
   "file_extension": ".py",
   "mimetype": "text/x-python",
   "name": "python",
   "nbconvert_exporter": "python",
   "pygments_lexer": "ipython3",
   "version": "3.9.13"
  }
 },
 "nbformat": 4,
 "nbformat_minor": 5
}
